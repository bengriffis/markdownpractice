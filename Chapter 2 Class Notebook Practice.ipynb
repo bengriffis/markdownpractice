{
 "cells": [
  {
   "cell_type": "code",
   "execution_count": 1,
   "id": "f83dd6e6",
   "metadata": {},
   "outputs": [
    {
     "name": "stdout",
     "output_type": "stream",
     "text": [
      "6\n"
     ]
    }
   ],
   "source": [
    "a=3\n",
    "b=a*2\n",
    "print(b)"
   ]
  },
  {
   "cell_type": "code",
   "execution_count": 2,
   "id": "bdd19a94",
   "metadata": {},
   "outputs": [
    {
     "name": "stdout",
     "output_type": "stream",
     "text": [
      "10\n"
     ]
    }
   ],
   "source": [
    "a=7\n",
    "b=a+10\n",
    "print(b-a)"
   ]
  },
  {
   "cell_type": "code",
   "execution_count": 3,
   "id": "bff60124",
   "metadata": {},
   "outputs": [
    {
     "name": "stdout",
     "output_type": "stream",
     "text": [
      "Hello my name is Ben\n"
     ]
    }
   ],
   "source": [
    "print(\"Hello my name is Ben\")"
   ]
  },
  {
   "cell_type": "markdown",
   "id": "4d89d63b",
   "metadata": {},
   "source": [
    "# Heading1"
   ]
  },
  {
   "cell_type": "markdown",
   "id": "bed5d73d",
   "metadata": {},
   "source": [
    "## Heading2"
   ]
  },
  {
   "cell_type": "markdown",
   "id": "c7828ce9",
   "metadata": {},
   "source": [
    "### Heading3"
   ]
  },
  {
   "cell_type": "markdown",
   "id": "620de99c",
   "metadata": {},
   "source": [
    "#### Heading4"
   ]
  },
  {
   "cell_type": "markdown",
   "id": "0b7c5b66",
   "metadata": {},
   "source": [
    "##### Heading5"
   ]
  },
  {
   "cell_type": "markdown",
   "id": "3bdb4488",
   "metadata": {},
   "source": [
    "###### Heading6"
   ]
  },
  {
   "cell_type": "markdown",
   "id": "20f8f4b7",
   "metadata": {},
   "source": [
    ">This is a good day"
   ]
  },
  {
   "cell_type": "markdown",
   "id": "543aa48b",
   "metadata": {},
   "source": [
    "* This is a bullet list\n",
    "* list 1\n",
    "* list 2"
   ]
  },
  {
   "cell_type": "markdown",
   "id": "98c77c63",
   "metadata": {},
   "source": [
    "1. ordered list 1\n",
    "2. ordered list 2"
   ]
  },
  {
   "cell_type": "markdown",
   "id": "2fa48c2a",
   "metadata": {},
   "source": [
    "**Bold test**"
   ]
  },
  {
   "cell_type": "markdown",
   "id": "8b9a68a3",
   "metadata": {},
   "source": [
    "*Italicize test*"
   ]
  },
  {
   "cell_type": "markdown",
   "id": "21625a7c",
   "metadata": {},
   "source": [
    "`Back tick`"
   ]
  },
  {
   "cell_type": "markdown",
   "id": "4897614b",
   "metadata": {},
   "source": [
    "<a href=\"https://www.google.com/\">Google</a>"
   ]
  },
  {
   "cell_type": "markdown",
   "id": "3421fb96",
   "metadata": {},
   "source": [
    "![Python Logo](https://images.pexels.com/photos/736230/pexels-photo-736230.jpeg?cs=srgb&dl=pexels-jonas-kakaroto-736230.jpg&fm=jpg)"
   ]
  }
 ],
 "metadata": {
  "kernelspec": {
   "display_name": "Python 3 (ipykernel)",
   "language": "python",
   "name": "python3"
  },
  "language_info": {
   "codemirror_mode": {
    "name": "ipython",
    "version": 3
   },
   "file_extension": ".py",
   "mimetype": "text/x-python",
   "name": "python",
   "nbconvert_exporter": "python",
   "pygments_lexer": "ipython3",
   "version": "3.9.12"
  }
 },
 "nbformat": 4,
 "nbformat_minor": 5
}
